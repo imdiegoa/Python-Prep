{
 "cells": [
  {
   "attachments": {},
   "cell_type": "markdown",
   "metadata": {},
   "source": [
    "## Flujos de Control"
   ]
  },
  {
   "attachments": {},
   "cell_type": "markdown",
   "metadata": {},
   "source": [
    "1) Crear una variable que contenga un elemento del conjunto de números enteros y luego imprimir por pantalla si es mayor o menor a cero"
   ]
  },
  {
   "cell_type": "code",
   "execution_count": 2,
   "metadata": {},
   "outputs": [
    {
     "name": "stdout",
     "output_type": "stream",
     "text": [
      "El numero es mayor a cero.\n"
     ]
    }
   ],
   "source": [
    "a = 1\n",
    "if a > 0:\n",
    "    print(\"El numero es mayor a cero.\")\n",
    "elif a < 0:\n",
    "    print(\"El numero es menor a cero.\")\n",
    "else:\n",
    "    print(\"El numero es igual a cero.\")"
   ]
  },
  {
   "attachments": {},
   "cell_type": "markdown",
   "metadata": {},
   "source": [
    "2) Crear dos variables y un condicional que informe si son del mismo tipo de dato"
   ]
  },
  {
   "cell_type": "code",
   "execution_count": 3,
   "metadata": {},
   "outputs": [
    {
     "name": "stdout",
     "output_type": "stream",
     "text": [
      "Las variables son del mismo tipo.\n"
     ]
    }
   ],
   "source": [
    "b = 2\n",
    "if type(a) == type(b):\n",
    "    print(\"Las variables son del mismo tipo.\")\n",
    "else:\n",
    "    print(\"Las variables no son del mismo tipo.\")"
   ]
  },
  {
   "attachments": {},
   "cell_type": "markdown",
   "metadata": {},
   "source": [
    "3) Para los valores enteros del 1 al 20, imprimir por pantalla si es par o impar"
   ]
  },
  {
   "cell_type": "code",
   "execution_count": 9,
   "metadata": {},
   "outputs": [
    {
     "name": "stdout",
     "output_type": "stream",
     "text": [
      "El numero 1 es impar.\n",
      "El numero 2 es par.\n",
      "El numero 3 es impar.\n",
      "El numero 4 es par.\n",
      "El numero 5 es impar.\n",
      "El numero 6 es par.\n",
      "El numero 7 es impar.\n",
      "El numero 8 es par.\n",
      "El numero 9 es impar.\n",
      "El numero 10 es par.\n",
      "El numero 11 es impar.\n",
      "El numero 12 es par.\n",
      "El numero 13 es impar.\n",
      "El numero 14 es par.\n",
      "El numero 15 es impar.\n",
      "El numero 16 es par.\n",
      "El numero 17 es impar.\n",
      "El numero 18 es par.\n",
      "El numero 19 es impar.\n",
      "El numero 20 es par.\n"
     ]
    }
   ],
   "source": [
    "for i in range(1,21):\n",
    "    if i % 2 == 0:\n",
    "        print(\"El numero \" + str(i) + \" es par.\")\n",
    "    else:\n",
    "        print(\"El numero \" + str(i) + \" es impar.\")"
   ]
  },
  {
   "attachments": {},
   "cell_type": "markdown",
   "metadata": {},
   "source": [
    "4) En un ciclo for mostrar para los valores entre 0 y 5 el resultado de elevarlo a la potencia igual a 3"
   ]
  },
  {
   "cell_type": "code",
   "execution_count": 14,
   "metadata": {},
   "outputs": [
    {
     "name": "stdout",
     "output_type": "stream",
     "text": [
      "Potencia cubica de 0\n",
      "0\n",
      "Potencia cubica de 1\n",
      "1\n",
      "Potencia cubica de 2\n",
      "8\n",
      "Potencia cubica de 3\n",
      "27\n",
      "Potencia cubica de 4\n",
      "64\n",
      "Potencia cubica de 5\n",
      "125\n"
     ]
    }
   ],
   "source": [
    "for i in range(0,6):\n",
    "    print(\"Potencia cubica de \" + str(i))\n",
    "    print(i**3)"
   ]
  },
  {
   "attachments": {},
   "cell_type": "markdown",
   "metadata": {},
   "source": [
    "5) Crear una variable que contenga un número entero y realizar un ciclo for la misma cantidad de ciclos"
   ]
  },
  {
   "cell_type": "code",
   "execution_count": 13,
   "metadata": {},
   "outputs": [
    {
     "name": "stdout",
     "output_type": "stream",
     "text": [
      "Ciclo 1\n",
      "Ciclo 2\n",
      "Ciclo 3\n",
      "Ciclo 4\n",
      "Ciclo 5\n"
     ]
    }
   ],
   "source": [
    "c = 5\n",
    "for i in range(1,c+1):\n",
    "    print(\"Ciclo \" + str(i))"
   ]
  },
  {
   "attachments": {},
   "cell_type": "markdown",
   "metadata": {},
   "source": [
    "6) Utilizar un ciclo while para realizar el factorial de un número guardado en una variable, sólo si la variable contiene un número entero mayor a 0"
   ]
  },
  {
   "cell_type": "code",
   "execution_count": 3,
   "metadata": {},
   "outputs": [
    {
     "name": "stdout",
     "output_type": "stream",
     "text": [
      "El factorial es 120\n"
     ]
    }
   ],
   "source": [
    "d = 5\n",
    "resultado = d\n",
    "\n",
    "if d % 1 == 0:\n",
    "    if d > 0:\n",
    "        while (d > 2):\n",
    "            d = d - 1\n",
    "            resultado = resultado * d\n",
    "        print(\"El factorial es \" + str(resultado))\n",
    "    else:\n",
    "        print(\"El numero no es mayor a cero\")\n",
    "else:\n",
    "    print(\"El numero no es entero\")"
   ]
  },
  {
   "attachments": {},
   "cell_type": "markdown",
   "metadata": {},
   "source": [
    "7) Crear un ciclo for dentro de un ciclo while"
   ]
  },
  {
   "cell_type": "code",
   "execution_count": 16,
   "metadata": {},
   "outputs": [
    {
     "name": "stdout",
     "output_type": "stream",
     "text": [
      "Este es el ciclo while numero  1\n",
      "Este es el ciclo for numero  1\n",
      "Este es el ciclo while numero  2\n",
      "Este es el ciclo for numero  1\n",
      "Este es el ciclo for numero  2\n",
      "Este es el ciclo while numero  3\n",
      "Este es el ciclo for numero  1\n",
      "Este es el ciclo for numero  2\n",
      "Este es el ciclo for numero  3\n",
      "Este es el ciclo while numero  4\n",
      "Este es el ciclo for numero  1\n",
      "Este es el ciclo for numero  2\n",
      "Este es el ciclo for numero  3\n",
      "Este es el ciclo for numero  4\n"
     ]
    }
   ],
   "source": [
    "e = 1\n",
    "while (e < 5):\n",
    "    print(\"Este es el ciclo while numero \", e)\n",
    "    e += 1\n",
    "    for i in range (1,e):\n",
    "        print(\"Este es el ciclo for numero \", i)"
   ]
  },
  {
   "attachments": {},
   "cell_type": "markdown",
   "metadata": {},
   "source": [
    "8) Crear un ciclo while dentro de un ciclo for"
   ]
  },
  {
   "cell_type": "code",
   "execution_count": 21,
   "metadata": {},
   "outputs": [
    {
     "name": "stdout",
     "output_type": "stream",
     "text": [
      "Este es el ciclo for numero  1\n",
      "Este es el ciclo while numero  1\n",
      "Este es el ciclo for numero  2\n",
      "Este es el ciclo while numero  2\n",
      "Este es el ciclo while numero  1\n",
      "Este es el ciclo for numero  3\n",
      "Este es el ciclo while numero  3\n",
      "Este es el ciclo while numero  2\n",
      "Este es el ciclo while numero  1\n",
      "Este es el ciclo for numero  4\n",
      "Este es el ciclo while numero  4\n",
      "Este es el ciclo while numero  3\n",
      "Este es el ciclo while numero  2\n",
      "Este es el ciclo while numero  1\n",
      "Este es el ciclo for numero  5\n",
      "Este es el ciclo while numero  5\n",
      "Este es el ciclo while numero  4\n",
      "Este es el ciclo while numero  3\n",
      "Este es el ciclo while numero  2\n",
      "Este es el ciclo while numero  1\n"
     ]
    }
   ],
   "source": [
    "f = 5\n",
    "for i in range (1,f+1):\n",
    "    print(\"Este es el ciclo for numero \", i)\n",
    "    while (i > 0):\n",
    "        print(\"Este es el ciclo while numero \", i)\n",
    "        i -= 1"
   ]
  },
  {
   "attachments": {},
   "cell_type": "markdown",
   "metadata": {},
   "source": [
    "9) Imprimir los números primos existentes entre 0 y 30"
   ]
  },
  {
   "cell_type": "code",
   "execution_count": 116,
   "metadata": {},
   "outputs": [
    {
     "name": "stdout",
     "output_type": "stream",
     "text": [
      "0 no es primo.\n",
      "1 no es primo.\n",
      "2 es primo.\n",
      "3 es primo.\n",
      "4 no es primo.\n",
      "5 es primo.\n",
      "6 no es primo.\n",
      "7 es primo.\n",
      "8 no es primo.\n",
      "9 es primo.\n",
      "10 no es primo.\n",
      "11 es primo.\n",
      "12 no es primo.\n",
      "13 es primo.\n",
      "14 no es primo.\n",
      "15 es primo.\n",
      "16 no es primo.\n",
      "17 es primo.\n",
      "18 no es primo.\n",
      "19 es primo.\n",
      "20 no es primo.\n",
      "21 es primo.\n",
      "22 no es primo.\n",
      "23 es primo.\n",
      "24 no es primo.\n",
      "25 es primo.\n",
      "26 no es primo.\n",
      "27 es primo.\n",
      "28 no es primo.\n",
      "29 es primo.\n",
      "30 no es primo.\n"
     ]
    }
   ],
   "source": [
    "g = 0\n",
    "if type(g) != int:\n",
    "    print(\"El numero no es entero.\")\n",
    "else:\n",
    "    if g >= 0:\n",
    "        print(\"0 no es primo.\")\n",
    "        print(\"1 no es primo.\")\n",
    "        print(\"2 es primo.\")\n",
    "        while g < 31:\n",
    "            for i in range (2,g):\n",
    "                if g % i == 0:\n",
    "                    print(g, \"no es primo.\")\n",
    "                    break\n",
    "                else:\n",
    "                    print(g, \"es primo.\")\n",
    "                    break\n",
    "            g += 1\n",
    "    else:\n",
    "        print(\"El numero no es positivo.\")\n",
    "        "
   ]
  },
  {
   "attachments": {},
   "cell_type": "markdown",
   "metadata": {},
   "source": [
    "10) ¿Se puede mejorar el proceso del punto 9? Utilizar las sentencias break y/ó continue para tal fin"
   ]
  },
  {
   "cell_type": "code",
   "execution_count": 119,
   "metadata": {},
   "outputs": [
    {
     "name": "stdout",
     "output_type": "stream",
     "text": [
      "0 no es primo.\n",
      "1 no es primo.\n",
      "2 es primo.\n",
      "3 es primo.\n",
      "4 no es primo.\n",
      "5 es primo.\n",
      "6 no es primo.\n",
      "7 es primo.\n",
      "8 no es primo.\n",
      "9 es primo.\n",
      "10 no es primo.\n",
      "11 es primo.\n",
      "12 no es primo.\n",
      "13 es primo.\n",
      "14 no es primo.\n",
      "15 es primo.\n",
      "16 no es primo.\n",
      "17 es primo.\n",
      "18 no es primo.\n",
      "19 es primo.\n",
      "20 no es primo.\n",
      "21 es primo.\n",
      "22 no es primo.\n",
      "23 es primo.\n",
      "24 no es primo.\n",
      "25 es primo.\n",
      "26 no es primo.\n",
      "27 es primo.\n",
      "28 no es primo.\n",
      "29 es primo.\n",
      "30 no es primo.\n"
     ]
    }
   ],
   "source": [
    "g = 0\n",
    "print(\"0 no es primo.\")\n",
    "print(\"1 no es primo.\")\n",
    "print(\"2 es primo.\")\n",
    "while g < 31:\n",
    "    for i in range (2,g):\n",
    "        if g % i == 0:\n",
    "            print(g, \"no es primo.\")\n",
    "            break\n",
    "        else:\n",
    "            print(g, \"es primo.\")\n",
    "            break\n",
    "    g += 1"
   ]
  },
  {
   "attachments": {},
   "cell_type": "markdown",
   "metadata": {},
   "source": [
    "11) En los puntos 9 y 10, se diseño un código que encuentra números primos y además se lo optimizó. ¿Es posible saber en qué medida se optimizó?"
   ]
  },
  {
   "cell_type": "code",
   "execution_count": 19,
   "metadata": {},
   "outputs": [
    {
     "name": "stdout",
     "output_type": "stream",
     "text": [
      "0 no es primo.\n",
      "1 no es primo.\n",
      "2 es primo.\n",
      "3 es primo.\n",
      "5 es primo.\n",
      "7 es primo.\n",
      "9 es primo.\n",
      "11 es primo.\n",
      "13 es primo.\n",
      "15 es primo.\n",
      "17 es primo.\n",
      "19 es primo.\n",
      "21 es primo.\n",
      "23 es primo.\n",
      "25 es primo.\n",
      "27 es primo.\n",
      "29 es primo.\n",
      "Cantidad de ciclos: 28\n"
     ]
    }
   ],
   "source": [
    "ciclos_sin_break = 0\n",
    "g = 0\n",
    "print(\"0 no es primo.\")\n",
    "print(\"1 no es primo.\")\n",
    "print(\"2 es primo.\")\n",
    "while g < 31:\n",
    "    for i in range (2,g):\n",
    "        ciclos_sin_break += 1 # Cada ciclo que se repite suma 1, el break previene el inicio de otro ciclo\n",
    "        if g % i == 0:\n",
    "            break\n",
    "        else:\n",
    "            print(g, \"es primo.\")\n",
    "            break\n",
    "    g += 1\n",
    "print('Cantidad de ciclos: ' + str(ciclos_sin_break))"
   ]
  },
  {
   "attachments": {},
   "cell_type": "markdown",
   "metadata": {},
   "source": [
    "12) Aplicando continue, armar un ciclo while que solo imprima los valores divisibles por 12, dentro del rango de números de 100 a 300"
   ]
  },
  {
   "cell_type": "code",
   "execution_count": 132,
   "metadata": {},
   "outputs": [
    {
     "name": "stdout",
     "output_type": "stream",
     "text": [
      "108 es divisible entre 12.\n",
      "120 es divisible entre 12.\n",
      "132 es divisible entre 12.\n",
      "144 es divisible entre 12.\n",
      "156 es divisible entre 12.\n",
      "168 es divisible entre 12.\n",
      "180 es divisible entre 12.\n",
      "192 es divisible entre 12.\n",
      "204 es divisible entre 12.\n",
      "216 es divisible entre 12.\n",
      "228 es divisible entre 12.\n",
      "240 es divisible entre 12.\n",
      "252 es divisible entre 12.\n",
      "264 es divisible entre 12.\n",
      "276 es divisible entre 12.\n",
      "288 es divisible entre 12.\n",
      "300 es divisible entre 12.\n"
     ]
    }
   ],
   "source": [
    "h = 100\n",
    "while h < 301:\n",
    "    if h % 12 == 0:\n",
    "        print(h, \"es divisible entre 12.\")\n",
    "        h += 1\n",
    "    else:\n",
    "        h += 1\n",
    "        continue"
   ]
  },
  {
   "attachments": {},
   "cell_type": "markdown",
   "metadata": {},
   "source": [
    "13) Utilizar la función **input()** que permite hacer ingresos por teclado, para encontrar números primos y dar la opción al usario de buscar el siguiente"
   ]
  },
  {
   "cell_type": "code",
   "execution_count": 36,
   "metadata": {},
   "outputs": [
    {
     "name": "stdout",
     "output_type": "stream",
     "text": [
      "Ingresa un numero para verificar si es primo:\n",
      "3 es primo.\n",
      "Ingresa 1 para encontrar el proximo numero primo, o 2 para finalizar el programa.\n",
      "4 no es primo.\n",
      "Ingresa 1 para encontrar el proximo numero primo, o 2 para finalizar el programa.\n",
      "5 es primo.\n",
      "Ingresa 1 para encontrar el proximo numero primo, o 2 para finalizar el programa.\n",
      "7 es primo.\n",
      "Ingresa 1 para encontrar el proximo numero primo, o 2 para finalizar el programa.\n",
      "11 es primo.\n",
      "Ingresa 1 para encontrar el proximo numero primo, o 2 para finalizar el programa.\n",
      "13 es primo.\n",
      "Ingresa 1 para encontrar el proximo numero primo, o 2 para finalizar el programa.\n",
      "17 es primo.\n",
      "Ingresa 1 para encontrar el proximo numero primo, o 2 para finalizar el programa.\n",
      "19 es primo.\n",
      "Ingresa 1 para encontrar el proximo numero primo, o 2 para finalizar el programa.\n",
      "Has finalizado el programa.\n"
     ]
    }
   ],
   "source": [
    "print(\"Ingresa un numero mayor a 2 para verificar si es primo:\")\n",
    "j = int(input())\n",
    "k = 1\n",
    "l = 0\n",
    "primo = True\n",
    "while k == 1:\n",
    "    if j > 2:\n",
    "        for i in range (2,j):\n",
    "            if (j % i == 0):\n",
    "                primo = False\n",
    "                break\n",
    "        if (primo):\n",
    "            print(j, \"es primo.\")\n",
    "            print(\"Ingresa 1 para encontrar el proximo numero primo, o 2 para finalizar el programa.\")\n",
    "            k = int(input())\n",
    "            j += 1\n",
    "            continue\n",
    "        else:\n",
    "            primo = True\n",
    "            l += 1\n",
    "            if l > 1:\n",
    "                j += 1\n",
    "                continue\n",
    "            print(j, \"no es primo.\")\n",
    "            print(\"Ingresa 1 para encontrar el proximo numero primo, o 2 para finalizar el programa.\")\n",
    "            k = int(input())\n",
    "            j += 1\n",
    "            continue\n",
    "    print(\"Numero invalido.\")\n",
    "    break\n",
    "print(\"Has finalizado el programa.\")"
   ]
  },
  {
   "attachments": {},
   "cell_type": "markdown",
   "metadata": {},
   "source": [
    "14) Crear un ciclo while que encuentre dentro del rango de 100 a 300 el primer número divisible por 3 y además múltiplo de 6"
   ]
  },
  {
   "cell_type": "code",
   "execution_count": 40,
   "metadata": {},
   "outputs": [
    {
     "name": "stdout",
     "output_type": "stream",
     "text": [
      "102 es divisible por 3 y multiplo de 6.\n"
     ]
    }
   ],
   "source": [
    "m = 100\n",
    "while m < 301:\n",
    "    if m % 3 == 0:\n",
    "        if m % 6 == 0:\n",
    "            print(m, \"es divisible por 3 y multiplo de 6.\")\n",
    "            break\n",
    "        m += 1\n",
    "    m += 1"
   ]
  }
 ],
 "metadata": {
  "interpreter": {
   "hash": "c85384e4cb51c8b72350f3a8712cc8351fdc3955e32a27f9b60c6242ab125f01"
  },
  "kernelspec": {
   "display_name": "Python 3 (ipykernel)",
   "language": "python",
   "name": "python3"
  },
  "language_info": {
   "codemirror_mode": {
    "name": "ipython",
    "version": 3
   },
   "file_extension": ".py",
   "mimetype": "text/x-python",
   "name": "python",
   "nbconvert_exporter": "python",
   "pygments_lexer": "ipython3",
   "version": "3.12.1"
  }
 },
 "nbformat": 4,
 "nbformat_minor": 4
}
