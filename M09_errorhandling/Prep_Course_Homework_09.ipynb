{
 "cells": [
  {
   "attachments": {},
   "cell_type": "markdown",
   "metadata": {},
   "source": [
    "## Manejo de errores"
   ]
  },
  {
   "attachments": {},
   "cell_type": "markdown",
   "metadata": {},
   "source": [
    "1) Con la clase creada en el módulo 7, tener en cuenta diferentes casos en que el código pudiera arrojar error. Por ejemplo, en la creación del objeto recibimos una lista de números enteros pero ¿qué pasa si se envía otro tipo de dato?"
   ]
  },
  {
   "cell_type": "code",
   "execution_count": 22,
   "metadata": {},
   "outputs": [],
   "source": [
    "import sys\n",
    "sys.path.append(r\"C:\\Users\\imdie\\Desktop\\Python-Prep\\M09_errorhandling\\Test1.py\")"
   ]
  },
  {
   "cell_type": "code",
   "execution_count": 23,
   "metadata": {},
   "outputs": [],
   "source": [
    "import Test1 as h"
   ]
  },
  {
   "cell_type": "code",
   "execution_count": 24,
   "metadata": {},
   "outputs": [
    {
     "ename": "TypeError",
     "evalue": "Herramientas.__init__() takes 1 positional argument but 2 were given",
     "output_type": "error",
     "traceback": [
      "\u001b[1;31m---------------------------------------------------------------------------\u001b[0m",
      "\u001b[1;31mTypeError\u001b[0m                                 Traceback (most recent call last)",
      "Cell \u001b[1;32mIn[24], line 1\u001b[0m\n\u001b[1;32m----> 1\u001b[0m h1 \u001b[38;5;241m=\u001b[39m \u001b[43mh\u001b[49m\u001b[38;5;241;43m.\u001b[39;49m\u001b[43mHerramientas\u001b[49m\u001b[43m(\u001b[49m\u001b[38;5;124;43m\"\u001b[39;49m\u001b[38;5;124;43mhola\u001b[39;49m\u001b[38;5;124;43m\"\u001b[39;49m\u001b[43m)\u001b[49m\n",
      "\u001b[1;31mTypeError\u001b[0m: Herramientas.__init__() takes 1 positional argument but 2 were given"
     ]
    }
   ],
   "source": [
    "h1 = h.Herramientas(\"hola\")"
   ]
  },
  {
   "cell_type": "code",
   "execution_count": 26,
   "metadata": {},
   "outputs": [],
   "source": [
    "h1 = h.Herramientas()"
   ]
  },
  {
   "attachments": {},
   "cell_type": "markdown",
   "metadata": {},
   "source": [
    "2) En la función que hace la conversión de grados, validar que los parámetros enviados sean los esperados, de no serlo, informar cuáles son los valores esperados."
   ]
  },
  {
   "cell_type": "code",
   "execution_count": 27,
   "metadata": {},
   "outputs": [
    {
     "data": {
      "text/plain": [
       "<module 'Test1' from 'c:\\\\Users\\\\imdie\\\\Desktop\\\\Python-Prep\\\\M09_errorhandling\\\\Test1.py'>"
      ]
     },
     "execution_count": 27,
     "metadata": {},
     "output_type": "execute_result"
    }
   ],
   "source": [
    "import importlib\n",
    "importlib.reload(h)"
   ]
  },
  {
   "cell_type": "code",
   "execution_count": 28,
   "metadata": {},
   "outputs": [],
   "source": [
    "h1 = h.Herramientas([2,3,5,6,2])"
   ]
  },
  {
   "cell_type": "code",
   "execution_count": 31,
   "metadata": {},
   "outputs": [
    {
     "name": "stdout",
     "output_type": "stream",
     "text": [
      "Parámetro de Origen incorrecto\n",
      "2 grados 1 son None grados 2\n",
      "Parámetro de Origen incorrecto\n",
      "3 grados 1 son None grados 2\n",
      "Parámetro de Origen incorrecto\n",
      "5 grados 1 son None grados 2\n",
      "Parámetro de Origen incorrecto\n",
      "6 grados 1 son None grados 2\n",
      "Parámetro de Origen incorrecto\n",
      "2 grados 1 son None grados 2\n"
     ]
    }
   ],
   "source": [
    "h1.conversion_grados(1,2)"
   ]
  },
  {
   "cell_type": "code",
   "execution_count": 32,
   "metadata": {},
   "outputs": [
    {
     "name": "stdout",
     "output_type": "stream",
     "text": [
      "2 grados celsius son 35.6 grados farenheit\n",
      "3 grados celsius son 37.4 grados farenheit\n",
      "5 grados celsius son 41.0 grados farenheit\n",
      "6 grados celsius son 42.8 grados farenheit\n",
      "2 grados celsius son 35.6 grados farenheit\n"
     ]
    }
   ],
   "source": [
    "h1.conversion_grados('celsius','farenheit')"
   ]
  },
  {
   "attachments": {},
   "cell_type": "markdown",
   "metadata": {},
   "source": [
    "3) Importar el modulo \"unittest\" y crear los siguientes casos de pruebas sobre la clase utilizada en el punto 2<br>\n",
    "Creacion del objeto incorrecta<br>\n",
    "Creacion correcta del objeto<br>\n",
    "Metodo valor_modal()<br>\n",
    "\n",
    "Se puede usar \"raise ValueError()\" en la creación de la clase para verificar el error. Investigar sobre esta funcionalidad."
   ]
  },
  {
   "cell_type": "code",
   "execution_count": 4,
   "metadata": {},
   "outputs": [],
   "source": [
    "import unittest\n",
    "\n",
    "class ProbandoMiClase(unittest.TestCase):\n",
    "    \n",
    "    def test_crear_objeto1(self):\n",
    "        param = 'hola'\n",
    "        self.assertRaises(ValueError, h.Herramientas, param)\n",
    "        #self.failUnlessRaises(ValueError, h.Herramientas, param)\n",
    "\n",
    "    def test_crear_objeto2(self):\n",
    "        param = [1,2,2,5]\n",
    "        h1 = h.Herramientas(param)\n",
    "        self.assertEqual(h1.lista, param)\n",
    "\n",
    "    def test_valor_modal(self):\n",
    "        lis = [1,2,1,3]\n",
    "        h1 = h.Herramientas(lis)\n",
    "        moda, veces = h1.valor_modal(False)\n",
    "        moda = [moda]\n",
    "        moda.append(veces)\n",
    "        resultado = [1, 2]\n",
    "        self.assertEqual(moda, resultado)"
   ]
  },
  {
   "cell_type": "code",
   "execution_count": 5,
   "metadata": {},
   "outputs": [
    {
     "name": "stderr",
     "output_type": "stream",
     "text": [
      "test_crear_objeto1 (__main__.ProbandoMiClase.test_crear_objeto1) ... ERROR\n",
      "test_crear_objeto2 (__main__.ProbandoMiClase.test_crear_objeto2) ... ERROR\n",
      "test_valor_modal (__main__.ProbandoMiClase.test_valor_modal) ... ERROR\n",
      "\n",
      "======================================================================\n",
      "ERROR: test_crear_objeto1 (__main__.ProbandoMiClase.test_crear_objeto1)\n",
      "----------------------------------------------------------------------\n",
      "Traceback (most recent call last):\n",
      "  File \"C:\\Users\\imdie\\AppData\\Local\\Temp\\ipykernel_16920\\1311442039.py\", line 7, in test_crear_objeto1\n",
      "    self.assertRaises(ValueError, h.Herramientas, param)\n",
      "                                  ^\n",
      "NameError: name 'h' is not defined\n",
      "\n",
      "======================================================================\n",
      "ERROR: test_crear_objeto2 (__main__.ProbandoMiClase.test_crear_objeto2)\n",
      "----------------------------------------------------------------------\n",
      "Traceback (most recent call last):\n",
      "  File \"C:\\Users\\imdie\\AppData\\Local\\Temp\\ipykernel_16920\\1311442039.py\", line 12, in test_crear_objeto2\n",
      "    h1 = h.Herramientas(param)\n",
      "         ^\n",
      "NameError: name 'h' is not defined\n",
      "\n",
      "======================================================================\n",
      "ERROR: test_valor_modal (__main__.ProbandoMiClase.test_valor_modal)\n",
      "----------------------------------------------------------------------\n",
      "Traceback (most recent call last):\n",
      "  File \"C:\\Users\\imdie\\AppData\\Local\\Temp\\ipykernel_16920\\1311442039.py\", line 17, in test_valor_modal\n",
      "    h1 = h.Herramientas(lis)\n",
      "         ^\n",
      "NameError: name 'h' is not defined\n",
      "\n",
      "----------------------------------------------------------------------\n",
      "Ran 3 tests in 0.007s\n",
      "\n",
      "FAILED (errors=3)\n"
     ]
    },
    {
     "data": {
      "text/plain": [
       "<unittest.main.TestProgram at 0x232c243aae0>"
      ]
     },
     "execution_count": 5,
     "metadata": {},
     "output_type": "execute_result"
    }
   ],
   "source": [
    "unittest.main(argv=[''], verbosity=2, exit=False)"
   ]
  },
  {
   "attachments": {},
   "cell_type": "markdown",
   "metadata": {},
   "source": [
    "4) Probar una creación incorrecta y visualizar la salida del \"raise\""
   ]
  },
  {
   "cell_type": "code",
   "execution_count": 35,
   "metadata": {},
   "outputs": [],
   "source": [
    "h2 = h.Herramientas('y')\n",
    "\n",
    "h2 = h.Herramientas(2)"
   ]
  },
  {
   "attachments": {},
   "cell_type": "markdown",
   "metadata": {},
   "source": [
    "6) Agregar casos de pruebas para el método verifica_primos() realizando el cambio en la clase, para que devuelva una lista de True o False en función de que el elemento en la posisicón sea o no primo"
   ]
  },
  {
   "cell_type": "code",
   "execution_count": 36,
   "metadata": {},
   "outputs": [],
   "source": [
    "class ProbandoMiClase2(unittest.TestCase):\n",
    "\n",
    "    def test_verifica_primos1(self):\n",
    "        lis = [2,3,8,10,13]\n",
    "        h1 = h.Herramientas(lis)\n",
    "        primos = h1.verifica_primo()\n",
    "        primos_esperado = [True, True, False, False, True]\n",
    "        self.assertEqual(primos, primos_esperado)"
   ]
  },
  {
   "cell_type": "code",
   "execution_count": 37,
   "metadata": {},
   "outputs": [
    {
     "data": {
      "text/plain": [
       "<module 'Test1' from 'c:\\\\Users\\\\imdie\\\\Desktop\\\\Python-Prep\\\\M09_errorhandling\\\\Test1.py'>"
      ]
     },
     "execution_count": 37,
     "metadata": {},
     "output_type": "execute_result"
    }
   ],
   "source": [
    "importlib.reload(h)"
   ]
  },
  {
   "cell_type": "code",
   "execution_count": 38,
   "metadata": {},
   "outputs": [
    {
     "name": "stderr",
     "output_type": "stream",
     "text": [
      "test_crear_objeto1 (__main__.ProbandoMiClase.test_crear_objeto1) ... FAIL\n",
      "test_crear_objeto2 (__main__.ProbandoMiClase.test_crear_objeto2) ... ok\n",
      "test_valor_modal (__main__.ProbandoMiClase.test_valor_modal) ... ok\n",
      "test_verifica_primos1 (__main__.ProbandoMiClase2.test_verifica_primos1) ... FAIL\n",
      "\n",
      "======================================================================\n",
      "FAIL: test_crear_objeto1 (__main__.ProbandoMiClase.test_crear_objeto1)\n",
      "----------------------------------------------------------------------\n",
      "Traceback (most recent call last):\n",
      "  File \"C:\\Users\\imdie\\AppData\\Local\\Temp\\ipykernel_16920\\1311442039.py\", line 7, in test_crear_objeto1\n",
      "    self.assertRaises(ValueError, h.Herramientas, param)\n",
      "AssertionError: ValueError not raised by Herramientas\n",
      "\n",
      "======================================================================\n",
      "FAIL: test_verifica_primos1 (__main__.ProbandoMiClase2.test_verifica_primos1)\n",
      "----------------------------------------------------------------------\n",
      "Traceback (most recent call last):\n",
      "  File \"C:\\Users\\imdie\\AppData\\Local\\Temp\\ipykernel_16920\\3102245517.py\", line 8, in test_verifica_primos1\n",
      "    self.assertEqual(primos, primos_esperado)\n",
      "AssertionError: None != [True, True, False, False, True]\n",
      "\n",
      "----------------------------------------------------------------------\n",
      "Ran 4 tests in 0.006s\n",
      "\n",
      "FAILED (failures=2)\n"
     ]
    },
    {
     "name": "stdout",
     "output_type": "stream",
     "text": [
      "El elemento 2 SI es un numero primo\n",
      "El elemento 3 SI es un numero primo\n",
      "El elemento 8 NO es un numero primo\n",
      "El elemento 10 NO es un numero primo\n",
      "El elemento 13 SI es un numero primo\n"
     ]
    },
    {
     "data": {
      "text/plain": [
       "<unittest.main.TestProgram at 0x232c24d8650>"
      ]
     },
     "execution_count": 38,
     "metadata": {},
     "output_type": "execute_result"
    }
   ],
   "source": [
    "unittest.main(argv=[''], verbosity=2, exit=False)"
   ]
  },
  {
   "attachments": {},
   "cell_type": "markdown",
   "metadata": {},
   "source": [
    "7) Agregar casos de pruebas para el método conversion_grados()"
   ]
  },
  {
   "cell_type": "code",
   "execution_count": 39,
   "metadata": {},
   "outputs": [],
   "source": [
    "class ProbandoMiClase3(unittest.TestCase):\n",
    "\n",
    "    def test_verifica_conversion1(self):\n",
    "        lis = [2,3,8,10,13]\n",
    "        h1 = h.Herramientas(lis)\n",
    "        grados = h1.conversion_grados('celsius','farenheit')\n",
    "        grados_esperado = [35.6, 37.4, 46.4, 50.0, 55.4]\n",
    "        self.assertEqual(grados, grados_esperado)"
   ]
  },
  {
   "cell_type": "code",
   "execution_count": 40,
   "metadata": {},
   "outputs": [
    {
     "data": {
      "text/plain": [
       "<module 'Test1' from 'c:\\\\Users\\\\imdie\\\\Desktop\\\\Python-Prep\\\\M09_errorhandling\\\\Test1.py'>"
      ]
     },
     "execution_count": 40,
     "metadata": {},
     "output_type": "execute_result"
    }
   ],
   "source": [
    "importlib.reload(h)"
   ]
  },
  {
   "cell_type": "code",
   "execution_count": 41,
   "metadata": {},
   "outputs": [
    {
     "name": "stderr",
     "output_type": "stream",
     "text": [
      "test_crear_objeto1 (__main__.ProbandoMiClase.test_crear_objeto1) ... FAIL\n",
      "test_crear_objeto2 (__main__.ProbandoMiClase.test_crear_objeto2) ... ok\n",
      "test_valor_modal (__main__.ProbandoMiClase.test_valor_modal) ... ok\n",
      "test_verifica_primos1 (__main__.ProbandoMiClase2.test_verifica_primos1) ... FAIL\n",
      "test_verifica_conversion1 (__main__.ProbandoMiClase3.test_verifica_conversion1) ... FAIL\n",
      "\n",
      "======================================================================\n",
      "FAIL: test_crear_objeto1 (__main__.ProbandoMiClase.test_crear_objeto1)\n",
      "----------------------------------------------------------------------\n",
      "Traceback (most recent call last):\n",
      "  File \"C:\\Users\\imdie\\AppData\\Local\\Temp\\ipykernel_16920\\1311442039.py\", line 7, in test_crear_objeto1\n",
      "    self.assertRaises(ValueError, h.Herramientas, param)\n",
      "AssertionError: ValueError not raised by Herramientas\n",
      "\n",
      "======================================================================\n",
      "FAIL: test_verifica_primos1 (__main__.ProbandoMiClase2.test_verifica_primos1)\n",
      "----------------------------------------------------------------------\n",
      "Traceback (most recent call last):\n",
      "  File \"C:\\Users\\imdie\\AppData\\Local\\Temp\\ipykernel_16920\\3102245517.py\", line 8, in test_verifica_primos1\n",
      "    self.assertEqual(primos, primos_esperado)\n",
      "AssertionError: None != [True, True, False, False, True]\n",
      "\n",
      "======================================================================\n",
      "FAIL: test_verifica_conversion1 (__main__.ProbandoMiClase3.test_verifica_conversion1)\n",
      "----------------------------------------------------------------------\n",
      "Traceback (most recent call last):\n",
      "  File \"C:\\Users\\imdie\\AppData\\Local\\Temp\\ipykernel_16920\\574204816.py\", line 8, in test_verifica_conversion1\n",
      "    self.assertEqual(grados, grados_esperado)\n",
      "AssertionError: None != [35.6, 37.4, 46.4, 50.0, 55.4]\n",
      "\n",
      "----------------------------------------------------------------------\n",
      "Ran 5 tests in 0.008s\n",
      "\n",
      "FAILED (failures=3)\n"
     ]
    },
    {
     "name": "stdout",
     "output_type": "stream",
     "text": [
      "El elemento 2 SI es un numero primo\n",
      "El elemento 3 SI es un numero primo\n",
      "El elemento 8 NO es un numero primo\n",
      "El elemento 10 NO es un numero primo\n",
      "El elemento 13 SI es un numero primo\n",
      "2 grados celsius son 35.6 grados farenheit\n",
      "3 grados celsius son 37.4 grados farenheit\n",
      "8 grados celsius son 46.4 grados farenheit\n",
      "10 grados celsius son 50.0 grados farenheit\n",
      "13 grados celsius son 55.4 grados farenheit\n"
     ]
    },
    {
     "data": {
      "text/plain": [
       "<unittest.main.TestProgram at 0x232c24d9f70>"
      ]
     },
     "execution_count": 41,
     "metadata": {},
     "output_type": "execute_result"
    }
   ],
   "source": [
    "unittest.main(argv=[''], verbosity=2, exit=False)"
   ]
  },
  {
   "attachments": {},
   "cell_type": "markdown",
   "metadata": {},
   "source": [
    "8) Agregar casos de pruebas para el método factorial()"
   ]
  },
  {
   "cell_type": "code",
   "execution_count": 42,
   "metadata": {},
   "outputs": [
    {
     "data": {
      "text/plain": [
       "<module 'Test1' from 'c:\\\\Users\\\\imdie\\\\Desktop\\\\Python-Prep\\\\M09_errorhandling\\\\Test1.py'>"
      ]
     },
     "execution_count": 42,
     "metadata": {},
     "output_type": "execute_result"
    }
   ],
   "source": [
    "class ProbandoMiClase4(unittest.TestCase):\n",
    "\n",
    "    def test_verifica_factorial(self):\n",
    "        lis = [2,3,8,10,13]\n",
    "        h1 = h.Herramientas(lis)\n",
    "        factorial = h1.factorial()\n",
    "        factorial_esperado = [2, 6, 40320, 3628800, 6227020800]\n",
    "        self.assertEqual(factorial, factorial_esperado)\n",
    "\n",
    "importlib.reload(h)"
   ]
  },
  {
   "cell_type": "code",
   "execution_count": 43,
   "metadata": {},
   "outputs": [
    {
     "name": "stderr",
     "output_type": "stream",
     "text": [
      "test_crear_objeto1 (__main__.ProbandoMiClase.test_crear_objeto1) ... FAIL\n",
      "test_crear_objeto2 (__main__.ProbandoMiClase.test_crear_objeto2) ... ok\n",
      "test_valor_modal (__main__.ProbandoMiClase.test_valor_modal) ... ok\n",
      "test_verifica_primos1 (__main__.ProbandoMiClase2.test_verifica_primos1) ... FAIL\n",
      "test_verifica_conversion1 (__main__.ProbandoMiClase3.test_verifica_conversion1) ... FAIL\n",
      "test_verifica_factorial (__main__.ProbandoMiClase4.test_verifica_factorial) ... FAIL\n",
      "\n",
      "======================================================================\n",
      "FAIL: test_crear_objeto1 (__main__.ProbandoMiClase.test_crear_objeto1)\n",
      "----------------------------------------------------------------------\n",
      "Traceback (most recent call last):\n",
      "  File \"C:\\Users\\imdie\\AppData\\Local\\Temp\\ipykernel_16920\\1311442039.py\", line 7, in test_crear_objeto1\n",
      "    self.assertRaises(ValueError, h.Herramientas, param)\n",
      "AssertionError: ValueError not raised by Herramientas\n",
      "\n",
      "======================================================================\n",
      "FAIL: test_verifica_primos1 (__main__.ProbandoMiClase2.test_verifica_primos1)\n",
      "----------------------------------------------------------------------\n",
      "Traceback (most recent call last):\n",
      "  File \"C:\\Users\\imdie\\AppData\\Local\\Temp\\ipykernel_16920\\3102245517.py\", line 8, in test_verifica_primos1\n",
      "    self.assertEqual(primos, primos_esperado)\n",
      "AssertionError: None != [True, True, False, False, True]\n",
      "\n",
      "======================================================================\n",
      "FAIL: test_verifica_conversion1 (__main__.ProbandoMiClase3.test_verifica_conversion1)\n",
      "----------------------------------------------------------------------\n",
      "Traceback (most recent call last):\n",
      "  File \"C:\\Users\\imdie\\AppData\\Local\\Temp\\ipykernel_16920\\574204816.py\", line 8, in test_verifica_conversion1\n",
      "    self.assertEqual(grados, grados_esperado)\n",
      "AssertionError: None != [35.6, 37.4, 46.4, 50.0, 55.4]\n",
      "\n",
      "======================================================================\n",
      "FAIL: test_verifica_factorial (__main__.ProbandoMiClase4.test_verifica_factorial)\n",
      "----------------------------------------------------------------------\n",
      "Traceback (most recent call last):\n",
      "  File \"C:\\Users\\imdie\\AppData\\Local\\Temp\\ipykernel_16920\\1720567436.py\", line 8, in test_verifica_factorial\n",
      "    self.assertEqual(factorial, factorial_esperado)\n",
      "AssertionError: None != [2, 6, 40320, 3628800, 6227020800]\n",
      "\n",
      "----------------------------------------------------------------------\n",
      "Ran 6 tests in 0.008s\n",
      "\n",
      "FAILED (failures=4)\n"
     ]
    },
    {
     "name": "stdout",
     "output_type": "stream",
     "text": [
      "El elemento 2 SI es un numero primo\n",
      "El elemento 3 SI es un numero primo\n",
      "El elemento 8 NO es un numero primo\n",
      "El elemento 10 NO es un numero primo\n",
      "El elemento 13 SI es un numero primo\n",
      "2 grados celsius son 35.6 grados farenheit\n",
      "3 grados celsius son 37.4 grados farenheit\n",
      "8 grados celsius son 46.4 grados farenheit\n",
      "10 grados celsius son 50.0 grados farenheit\n",
      "13 grados celsius son 55.4 grados farenheit\n",
      "El factorial de  2 es 2\n",
      "El factorial de  3 es 6\n",
      "El factorial de  8 es 40320\n",
      "El factorial de  10 es 3628800\n",
      "El factorial de  13 es 6227020800\n"
     ]
    },
    {
     "data": {
      "text/plain": [
       "<unittest.main.TestProgram at 0x232c2480ce0>"
      ]
     },
     "execution_count": 43,
     "metadata": {},
     "output_type": "execute_result"
    }
   ],
   "source": [
    "unittest.main(argv=[''], verbosity=2, exit=False)"
   ]
  }
 ],
 "metadata": {
  "interpreter": {
   "hash": "c85384e4cb51c8b72350f3a8712cc8351fdc3955e32a27f9b60c6242ab125f01"
  },
  "kernelspec": {
   "display_name": "Python 3 (ipykernel)",
   "language": "python",
   "name": "python3"
  },
  "language_info": {
   "codemirror_mode": {
    "name": "ipython",
    "version": 3
   },
   "file_extension": ".py",
   "mimetype": "text/x-python",
   "name": "python",
   "nbconvert_exporter": "python",
   "pygments_lexer": "ipython3",
   "version": "3.12.1"
  }
 },
 "nbformat": 4,
 "nbformat_minor": 4
}
