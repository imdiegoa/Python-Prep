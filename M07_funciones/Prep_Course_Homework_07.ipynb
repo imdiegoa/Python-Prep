{
 "cells": [
  {
   "attachments": {},
   "cell_type": "markdown",
   "metadata": {},
   "source": [
    "## Funciones"
   ]
  },
  {
   "attachments": {},
   "cell_type": "markdown",
   "metadata": {},
   "source": [
    "1) Crear una función que reciba un número como parámetro y devuelva True si es primo y False si no lo es"
   ]
  },
  {
   "cell_type": "code",
   "execution_count": 8,
   "metadata": {},
   "outputs": [
    {
     "name": "stdout",
     "output_type": "stream",
     "text": [
      "True\n"
     ]
    }
   ],
   "source": [
    "primo=True\n",
    "\n",
    "def funcion_primo(x):\n",
    "    for i in range (2,x):\n",
    "        if x % i == 0:\n",
    "            primo=False\n",
    "            break\n",
    "        else:\n",
    "            primo=True\n",
    "    return primo\n",
    "\n",
    "print(funcion_primo(19))"
   ]
  },
  {
   "attachments": {},
   "cell_type": "markdown",
   "metadata": {},
   "source": [
    "2) Utilizando la función del punto 1, realizar otra función que reciba de parámetro una lista de números y devuelva sólo aquellos que son primos en otra lista"
   ]
  },
  {
   "cell_type": "code",
   "execution_count": 19,
   "metadata": {},
   "outputs": [
    {
     "name": "stdout",
     "output_type": "stream",
     "text": [
      "[]\n"
     ]
    }
   ],
   "source": [
    "primo=True\n",
    "z = []\n",
    "a = [3,4,5,6,7,8,9,10,11,12,13,14]\n",
    "\n",
    "def funcion_primo(x):\n",
    "    for i in range (2,x):\n",
    "        if x % i == 0:\n",
    "            primo=False\n",
    "            break\n",
    "        else:\n",
    "            primo=True\n",
    "    return primo\n",
    "\n",
    "def funcion_lista(a):\n",
    "    for j in a:\n",
    "        y = funcion_primo(j)\n",
    "        if y == True:\n",
    "            z.append(j)\n",
    "    return z\n",
    "\n",
    "print(funcion_lista(a))"
   ]
  },
  {
   "attachments": {},
   "cell_type": "markdown",
   "metadata": {},
   "source": [
    "3) Crear una función que al recibir una lista de números, devuelva el que más se repite y cuántas veces lo hace. Si hay más de un \"más repetido\", que devuelva cualquiera"
   ]
  },
  {
   "cell_type": "code",
   "execution_count": 3,
   "metadata": {},
   "outputs": [
    {
     "data": {
      "text/plain": [
       "(1, 3)"
      ]
     },
     "execution_count": 3,
     "metadata": {},
     "output_type": "execute_result"
    }
   ],
   "source": [
    "lista1 = [1,1,1,2,3,4,5]\n",
    "\n",
    "def repetidos(i):\n",
    "    listanumeros = []\n",
    "    listarepetidos = []\n",
    "    for x in i:\n",
    "        if x in listanumeros:\n",
    "            y = listanumeros.index(x)\n",
    "            listarepetidos[y] += 1\n",
    "        else:\n",
    "            listanumeros.append(x)\n",
    "            listarepetidos.append(1)\n",
    "    repeticiones = listarepetidos[0]\n",
    "    numero = listanumeros[0]\n",
    "    for indice, z in enumerate(listanumeros):\n",
    "        if listarepetidos[indice] > numero:\n",
    "            repeticiones = listarepetidos[indice]\n",
    "            numero = listanumeros[indice]\n",
    "    return numero, repeticiones\n",
    "\n",
    "repetidos(lista1)\n",
    "    \n"
   ]
  },
  {
   "attachments": {},
   "cell_type": "markdown",
   "metadata": {},
   "source": [
    "4) Crear una función que convierta entre grados Celsius, Farenheit y Kelvin<br>\n",
    "Fórmula 1\t: (°C × 9/5) + 32 = °F<br>\n",
    "Fórmula 2\t: °C + 273.15 = °K<br>\n",
    "Debe recibir 3 parámetros: el valor, la medida de orígen y la medida de destino\n"
   ]
  },
  {
   "cell_type": "code",
   "execution_count": 11,
   "metadata": {},
   "outputs": [
    {
     "name": "stdout",
     "output_type": "stream",
     "text": [
      "1 grado Celcius a Farenheit es:  33.8\n"
     ]
    }
   ],
   "source": [
    "def temp(x,y,z):\n",
    "    if x == 1:\n",
    "        if y == 1:\n",
    "            final = \"Selecciona medidas distintas.\"\n",
    "        elif y == 2:\n",
    "            final = (z * 9/5) + 32\n",
    "        elif y == 3:\n",
    "            final = z + 273.15\n",
    "        else:\n",
    "            final = \"Numero no valido.\"\n",
    "    elif x == 2:\n",
    "        if y == 1:\n",
    "            final = (z - 32) * 5/9\n",
    "        elif y == 2:\n",
    "            final = \"Selecciona medidas distintas.\"\n",
    "        elif y == 3:\n",
    "            final = ((z - 32) * 5/9) + 273.15\n",
    "        else:\n",
    "            final = \"Numero no valido.\"\n",
    "    elif x == 3:\n",
    "        if y == 1:\n",
    "            final = z - 273.15\n",
    "        elif y == 2:\n",
    "            final = ((z - 273.15) * 9/5) + 32\n",
    "        elif y == 3:\n",
    "            final = \"Selecciona medidas distintas.\"\n",
    "        else:\n",
    "            final = \"Numero no valido.\"\n",
    "    else:\n",
    "        final = \"Numero no valido.\"\n",
    "    \n",
    "    return final\n",
    "\n",
    "print(\"1 grado Celcius a Farenheit es: \", temp(1,2,1))\n"
   ]
  },
  {
   "attachments": {},
   "cell_type": "markdown",
   "metadata": {},
   "source": [
    "5) Iterando una lista con los tres valores posibles de temperatura que recibe la función del punto 5, hacer un print para cada combinación de los mismos:"
   ]
  },
  {
   "cell_type": "code",
   "execution_count": 15,
   "metadata": {},
   "outputs": [
    {
     "name": "stdout",
     "output_type": "stream",
     "text": [
      "1 grado  1  es igual a  Selecciona medidas distintas. 1\n",
      "1 grado  1  es igual a  33.8 2\n",
      "1 grado  1  es igual a  274.15 3\n",
      "1 grado  2  es igual a  -17.22222222222222 1\n",
      "1 grado  2  es igual a  Selecciona medidas distintas. 2\n",
      "1 grado  2  es igual a  255.92777777777775 3\n",
      "1 grado  3  es igual a  -272.15 1\n",
      "1 grado  3  es igual a  -457.87 2\n",
      "1 grado  3  es igual a  Selecciona medidas distintas. 3\n"
     ]
    }
   ],
   "source": [
    "Parametros = [1,2,3]\n",
    "# 1 Celsius, 2 Farenheit, 3 Kelvin\n",
    "for i in range(0,3):\n",
    "    for j in range(0,3):\n",
    "        print(\"1 grado \", Parametros[i], \" es igual a \", temp(Parametros[i],Parametros[j],1), Parametros[j])"
   ]
  },
  {
   "attachments": {},
   "cell_type": "markdown",
   "metadata": {},
   "source": [
    "6) Armar una función que devuelva el factorial de un número. Tener en cuenta que el usuario puede equivocarse y enviar de parámetro un número no entero o negativo"
   ]
  },
  {
   "cell_type": "code",
   "execution_count": 20,
   "metadata": {},
   "outputs": [
    {
     "name": "stdout",
     "output_type": "stream",
     "text": [
      "El numero no es mayor a cero\n"
     ]
    }
   ],
   "source": [
    "d = -1\n",
    "\n",
    "def factorial(x):\n",
    "    resultado = x\n",
    "    if x % 1 == 0:\n",
    "        if x > 0:\n",
    "            while (x > 2):\n",
    "                x = x - 1\n",
    "                resultado = resultado * x\n",
    "            print(\"El factorial es \" + str(resultado))\n",
    "        else:\n",
    "            print(\"El numero no es mayor a cero\")\n",
    "    else:\n",
    "        print(\"El numero no es entero\")\n",
    "\n",
    "factorial(d)"
   ]
  }
 ],
 "metadata": {
  "interpreter": {
   "hash": "c85384e4cb51c8b72350f3a8712cc8351fdc3955e32a27f9b60c6242ab125f01"
  },
  "kernelspec": {
   "display_name": "Python 3 (ipykernel)",
   "language": "python",
   "name": "python3"
  },
  "language_info": {
   "codemirror_mode": {
    "name": "ipython",
    "version": 3
   },
   "file_extension": ".py",
   "mimetype": "text/x-python",
   "name": "python",
   "nbconvert_exporter": "python",
   "pygments_lexer": "ipython3",
   "version": "3.12.1"
  }
 },
 "nbformat": 4,
 "nbformat_minor": 4
}
